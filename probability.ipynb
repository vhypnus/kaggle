{
 "cells": [
  {
   "cell_type": "markdown",
   "metadata": {},
   "source": [
    "# 基本定义\n",
    "- 样本空间 $\\Omega=\\{\\omega_1,\\omega_2,...,\\omega_n\\}$\n",
    "- 样本点$\\omega$ \n",
    "- 概率$P$\n",
    "- 组合$C_n^r={\\frac {n!}{r!(n-r)!}}$\n",
    "- 排列$A_n^r$ \n",
    "- 随机事件\n",
    "- 随机试验$E$\n",
    "\n"
   ]
  },
  {
   "cell_type": "markdown",
   "metadata": {},
   "source": [
    "## 等可能概型\n",
    "$P={\\frac 1n}$\n",
    "\n",
    "### 古典概型\n",
    "- 有放回抽样\n",
    "- 无放回抽样\n",
    "\n",
    "### 几何概型\n",
    "$P(A)={\\frac {m(A)}{m(Ω)}}$\n",
    "> **蔳丰投针问题:**假设平台上画满了间距为a的平行直线,向该平面随机投捲一枚长度为l$(l<a)$的针,求针与任一平行线相交的概率.\n",
    "**解:**$\\Omega=\\{(x,\\varphi):0\\leq x\\leq\\frac a2,0\\leq\\varphi\\leq\\pi\\},m(\\Omega)=\\frac{\\pi a}2$"
   ]
  },
  {
   "cell_type": "markdown",
   "metadata": {},
   "source": [
    "## 条件概率\n",
    "随机试验$E$,$\\Omega$,$A,B$是随机试验$E$上的两个随机事件,且$P(A) > 0$,则事件$A$发生条件下发生$B$发生的概率$P(B|A)=\\frac {P(AB)}{P(A)}$\n",
    "\n",
    "### 全概率与贝叶斯公式\n"
   ]
  },
  {
   "cell_type": "code",
   "execution_count": null,
   "metadata": {},
   "outputs": [],
   "source": []
  }
 ],
 "metadata": {
  "kernelspec": {
   "display_name": "Python 3",
   "language": "python",
   "name": "python3"
  },
  "language_info": {
   "codemirror_mode": {
    "name": "ipython",
    "version": 3
   },
   "file_extension": ".py",
   "mimetype": "text/x-python",
   "name": "python",
   "nbconvert_exporter": "python",
   "pygments_lexer": "ipython3",
   "version": "3.7.6"
  }
 },
 "nbformat": 4,
 "nbformat_minor": 4
}
